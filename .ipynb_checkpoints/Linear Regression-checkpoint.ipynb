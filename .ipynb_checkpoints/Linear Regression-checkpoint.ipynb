{
 "cells": [
  {
   "cell_type": "code",
   "execution_count": 11,
   "metadata": {},
   "outputs": [],
   "source": [
    "# Importing the Library\n",
    "import pandas as pd\n",
    "import numpy as  np\n",
    "import matplotlib.pyplot as plt\n",
    "import warnings\n",
    "import seaborn as sns\n",
    "import statsmodels.formula.api as smf\n",
    "import statsmodels.stats.multicomp as multi\n",
    "warnings.filterwarnings('ignore')\n",
    "import scipy"
   ]
  },
  {
   "cell_type": "code",
   "execution_count": 12,
   "metadata": {},
   "outputs": [
    {
     "data": {
      "text/plain": [
       "(213, 4)"
      ]
     },
     "execution_count": 12,
     "metadata": {},
     "output_type": "execute_result"
    }
   ],
   "source": [
    "data=pd.read_csv(\"./data/gapmiderData.csv\")\n",
    "#Our Interest of Columns are country, alcconsumption, co2emissions, lifeexpectancy\n",
    "dataInterest=data[[\"country\",\"alcconsumption\",\"co2emissions\",\"lifeexpectancy\"]]\n",
    "dataInterest[\"alcconsumption\"]=pd.to_numeric(dataInterest[\"alcconsumption\"],errors='coerce')\n",
    "dataInterest[\"co2emissions\"]=pd.to_numeric(dataInterest[\"co2emissions\"],'coerce')\n",
    "dataInterest[\"lifeexpectancy\"]=pd.to_numeric(dataInterest[\"lifeexpectancy\"],'coerce')\n",
    "dataInterest.shape"
   ]
  },
  {
   "cell_type": "code",
   "execution_count": 13,
   "metadata": {},
   "outputs": [
    {
     "name": "stdout",
     "output_type": "stream",
     "text": [
      "(172, 4)\n"
     ]
    }
   ],
   "source": [
    "dataInterest=dataInterest.dropna()\n",
    "print(dataInterest.shape)\n",
    "# Next we will remove out the countries that have alcohol consumption less than 1 litres to make the analysis more significant\n",
    "dataInterest=dataInterest[dataInterest[\"alcconsumption\"]>1]"
   ]
  },
  {
   "cell_type": "markdown",
   "metadata": {},
   "source": [
    "## Analyzing the linear correlation between Alcohol Consumption and Life Expectancy"
   ]
  },
  {
   "cell_type": "code",
   "execution_count": 14,
   "metadata": {},
   "outputs": [
    {
     "name": "stdout",
     "output_type": "stream",
     "text": [
      "Minimum Value for alcohol consumption variable  1.03\n"
     ]
    }
   ],
   "source": [
    "# Lets check the min and max value of our quantitative variable\n",
    "print(\"Minimum Value for alcohol consumption variable \",dataInterest[\"alcconsumption\"].min())"
   ]
  },
  {
   "cell_type": "code",
   "execution_count": 15,
   "metadata": {},
   "outputs": [
    {
     "name": "stdout",
     "output_type": "stream",
     "text": [
      "Maxium Value for alcohol consumption variable  23.01\n"
     ]
    }
   ],
   "source": [
    "# Lets check the min and max value of our quantitative variable\n",
    "print(\"Maxium Value for alcohol consumption variable \",dataInterest[\"alcconsumption\"].max())"
   ]
  },
  {
   "cell_type": "code",
   "execution_count": 16,
   "metadata": {},
   "outputs": [
    {
     "name": "stdout",
     "output_type": "stream",
     "text": [
      "Mean Value for alcohol consumption variable  7.775310344827585\n"
     ]
    }
   ],
   "source": [
    "# Now let's subtract the mean from all values to center our explanatory variable\n",
    "print(\"Mean Value for alcohol consumption variable \",dataInterest[\"alcconsumption\"].mean())\n",
    "dataInterest[\"alcconsumption\"]=dataInterest[\"alcconsumption\"]-dataInterest[\"alcconsumption\"].mean()"
   ]
  },
  {
   "cell_type": "code",
   "execution_count": 19,
   "metadata": {},
   "outputs": [
    {
     "name": "stdout",
     "output_type": "stream",
     "text": [
      "                            OLS Regression Results                            \n",
      "==============================================================================\n",
      "Dep. Variable:         lifeexpectancy   R-squared:                       0.091\n",
      "Model:                            OLS   Adj. R-squared:                  0.085\n",
      "Method:                 Least Squares   F-statistic:                     14.40\n",
      "Date:                Sun, 09 May 2021   Prob (F-statistic):           0.000218\n",
      "Time:                        09:35:52   Log-Likelihood:                -531.40\n",
      "No. Observations:                 145   AIC:                             1067.\n",
      "Df Residuals:                     143   BIC:                             1073.\n",
      "Df Model:                           1                                         \n",
      "Covariance Type:            nonrobust                                         \n",
      "==================================================================================\n",
      "                     coef    std err          t      P>|t|      [0.025      0.975]\n",
      "----------------------------------------------------------------------------------\n",
      "Intercept         69.8105      0.790     88.349      0.000      68.249      71.372\n",
      "alcconsumption     0.6496      0.171      3.795      0.000       0.311       0.988\n",
      "==============================================================================\n",
      "Omnibus:                       14.104   Durbin-Watson:                   1.916\n",
      "Prob(Omnibus):                  0.001   Jarque-Bera (JB):               15.546\n",
      "Skew:                          -0.773   Prob(JB):                     0.000421\n",
      "Kurtosis:                       2.569   Cond. No.                         4.62\n",
      "==============================================================================\n",
      "\n",
      "Notes:\n",
      "[1] Standard Errors assume that the covariance matrix of the errors is correctly specified.\n"
     ]
    }
   ],
   "source": [
    "# Let's build a simple linear regression model\n",
    "\n",
    "model=smf.ols(\"lifeexpectancy ~ alcconsumption\",data=dataInterest).fit()\n",
    "print(model.summary())"
   ]
  },
  {
   "cell_type": "markdown",
   "metadata": {},
   "source": [
    "### So the results of the linear regression indicates that Alcohol Consumption is significantly and positively correlated with life expectancy with a p value of 0.0002."
   ]
  },
  {
   "cell_type": "code",
   "execution_count": null,
   "metadata": {},
   "outputs": [],
   "source": []
  }
 ],
 "metadata": {
  "kernelspec": {
   "display_name": "Python 3",
   "language": "python",
   "name": "python3"
  },
  "language_info": {
   "codemirror_mode": {
    "name": "ipython",
    "version": 3
   },
   "file_extension": ".py",
   "mimetype": "text/x-python",
   "name": "python",
   "nbconvert_exporter": "python",
   "pygments_lexer": "ipython3",
   "version": "3.8.6"
  }
 },
 "nbformat": 4,
 "nbformat_minor": 4
}
