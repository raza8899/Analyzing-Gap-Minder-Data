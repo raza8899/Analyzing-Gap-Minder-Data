{
 "cells": [
  {
   "cell_type": "code",
   "execution_count": 20,
   "metadata": {},
   "outputs": [],
   "source": [
    "# Importing the Library\n",
    "import pandas as pd\n",
    "import numpy as  np\n",
    "import matplotlib.pyplot as plt\n",
    "import warnings\n",
    "import seaborn as sns\n",
    "import statsmodels.api as sm\n",
    "import statsmodels.formula.api as smf\n",
    "import statsmodels.stats.multicomp as multi\n",
    "warnings.filterwarnings('ignore')\n",
    "import scipy"
   ]
  },
  {
   "cell_type": "code",
   "execution_count": 21,
   "metadata": {},
   "outputs": [
    {
     "data": {
      "text/plain": [
       "(213, 6)"
      ]
     },
     "execution_count": 21,
     "metadata": {},
     "output_type": "execute_result"
    }
   ],
   "source": [
    "#reading data and checking how it looks\n",
    "data=pd.read_csv(\"./data/gapmiderData.csv\")\n",
    "#Our Interest of Columns are country, alcconsumption, co2emissions, lifeexpectancy\n",
    "dataInterest=data[[\"country\",\"urbanrate\",\"employrate\",\"lifeexpectancy\",\"incomeperperson\",\"suicideper100th\"]]\n",
    "dataInterest[\"employrate\"]=pd.to_numeric(dataInterest[\"employrate\"],'coerce')\n",
    "dataInterest[\"lifeexpectancy\"]=pd.to_numeric(dataInterest[\"lifeexpectancy\"],'coerce')\n",
    "dataInterest[\"incomeperperson\"]=pd.to_numeric(dataInterest[\"incomeperperson\"],'coerce')\n",
    "dataInterest[\"suicideper100th\"]=pd.to_numeric(dataInterest[\"suicideper100th\"],'coerce')\n",
    "dataInterest[\"urbanrate\"]=pd.to_numeric(dataInterest[\"urbanrate\"],'coerce')\n",
    "dataInterest.shape"
   ]
  },
  {
   "cell_type": "markdown",
   "metadata": {},
   "source": [
    "#### Let's break the suicideRate in two categories, Low and High"
   ]
  },
  {
   "cell_type": "code",
   "execution_count": 22,
   "metadata": {},
   "outputs": [],
   "source": [
    "dataInterest=dataInterest.dropna()\n",
    "dataInterest[\"suicideCategorical\"]=pd.cut(dataInterest[\"suicideper100th\"],[0,10,39],labels=[\"0\",\"1\"])\n",
    "dataInterest[\"suicideCategorical\"]=pd.to_numeric(dataInterest[\"suicideCategorical\"])"
   ]
  },
  {
   "cell_type": "markdown",
   "metadata": {},
   "source": [
    "##### Now let's analyze the association between urban rate and suicideCategorical"
   ]
  },
  {
   "cell_type": "code",
   "execution_count": 23,
   "metadata": {},
   "outputs": [
    {
     "name": "stdout",
     "output_type": "stream",
     "text": [
      "Optimization terminated successfully.\n",
      "         Current function value: 0.672922\n",
      "         Iterations 4\n"
     ]
    },
    {
     "data": {
      "text/html": [
       "<table class=\"simpletable\">\n",
       "<caption>Logit Regression Results</caption>\n",
       "<tr>\n",
       "  <th>Dep. Variable:</th>   <td>suicideCategorical</td> <th>  No. Observations:  </th>  <td>   163</td> \n",
       "</tr>\n",
       "<tr>\n",
       "  <th>Model:</th>                  <td>Logit</td>       <th>  Df Residuals:      </th>  <td>   161</td> \n",
       "</tr>\n",
       "<tr>\n",
       "  <th>Method:</th>                  <td>MLE</td>        <th>  Df Model:          </th>  <td>     1</td> \n",
       "</tr>\n",
       "<tr>\n",
       "  <th>Date:</th>             <td>Tue, 18 May 2021</td>  <th>  Pseudo R-squ.:     </th>  <td>0.01738</td>\n",
       "</tr>\n",
       "<tr>\n",
       "  <th>Time:</th>                 <td>20:08:27</td>      <th>  Log-Likelihood:    </th> <td> -109.69</td>\n",
       "</tr>\n",
       "<tr>\n",
       "  <th>converged:</th>              <td>True</td>        <th>  LL-Null:           </th> <td> -111.63</td>\n",
       "</tr>\n",
       "<tr>\n",
       "  <th>Covariance Type:</th>      <td>nonrobust</td>     <th>  LLR p-value:       </th>  <td>0.04885</td>\n",
       "</tr>\n",
       "</table>\n",
       "<table class=\"simpletable\">\n",
       "<tr>\n",
       "      <td></td>         <th>coef</th>     <th>std err</th>      <th>z</th>      <th>P>|z|</th>  <th>[0.025</th>    <th>0.975]</th>  \n",
       "</tr>\n",
       "<tr>\n",
       "  <th>Intercept</th> <td>    0.5158</td> <td>    0.426</td> <td>    1.210</td> <td> 0.226</td> <td>   -0.320</td> <td>    1.351</td>\n",
       "</tr>\n",
       "<tr>\n",
       "  <th>urbanrate</th> <td>   -0.0140</td> <td>    0.007</td> <td>   -1.947</td> <td> 0.052</td> <td>   -0.028</td> <td> 9.21e-05</td>\n",
       "</tr>\n",
       "</table>"
      ],
      "text/plain": [
       "<class 'statsmodels.iolib.summary.Summary'>\n",
       "\"\"\"\n",
       "                           Logit Regression Results                           \n",
       "==============================================================================\n",
       "Dep. Variable:     suicideCategorical   No. Observations:                  163\n",
       "Model:                          Logit   Df Residuals:                      161\n",
       "Method:                           MLE   Df Model:                            1\n",
       "Date:                Tue, 18 May 2021   Pseudo R-squ.:                 0.01738\n",
       "Time:                        20:08:27   Log-Likelihood:                -109.69\n",
       "converged:                       True   LL-Null:                       -111.63\n",
       "Covariance Type:            nonrobust   LLR p-value:                   0.04885\n",
       "==============================================================================\n",
       "                 coef    std err          z      P>|z|      [0.025      0.975]\n",
       "------------------------------------------------------------------------------\n",
       "Intercept      0.5158      0.426      1.210      0.226      -0.320       1.351\n",
       "urbanrate     -0.0140      0.007     -1.947      0.052      -0.028    9.21e-05\n",
       "==============================================================================\n",
       "\"\"\""
      ]
     },
     "execution_count": 23,
     "metadata": {},
     "output_type": "execute_result"
    }
   ],
   "source": [
    "lregModel=smf.logit(\"suicideCategorical ~ urbanrate\",data=dataInterest).fit()\n",
    "lregModel.summary()"
   ]
  },
  {
   "cell_type": "code",
   "execution_count": 24,
   "metadata": {},
   "outputs": [
    {
     "data": {
      "text/html": [
       "<div>\n",
       "<style scoped>\n",
       "    .dataframe tbody tr th:only-of-type {\n",
       "        vertical-align: middle;\n",
       "    }\n",
       "\n",
       "    .dataframe tbody tr th {\n",
       "        vertical-align: top;\n",
       "    }\n",
       "\n",
       "    .dataframe thead th {\n",
       "        text-align: right;\n",
       "    }\n",
       "</style>\n",
       "<table border=\"1\" class=\"dataframe\">\n",
       "  <thead>\n",
       "    <tr style=\"text-align: right;\">\n",
       "      <th></th>\n",
       "      <th>Lower CI</th>\n",
       "      <th>Upper CI</th>\n",
       "      <th>OR</th>\n",
       "    </tr>\n",
       "  </thead>\n",
       "  <tbody>\n",
       "    <tr>\n",
       "      <th>Intercept</th>\n",
       "      <td>0.726476</td>\n",
       "      <td>3.862157</td>\n",
       "      <td>1.675041</td>\n",
       "    </tr>\n",
       "    <tr>\n",
       "      <th>urbanrate</th>\n",
       "      <td>0.972264</td>\n",
       "      <td>1.000092</td>\n",
       "      <td>0.986080</td>\n",
       "    </tr>\n",
       "  </tbody>\n",
       "</table>\n",
       "</div>"
      ],
      "text/plain": [
       "           Lower CI  Upper CI        OR\n",
       "Intercept  0.726476  3.862157  1.675041\n",
       "urbanrate  0.972264  1.000092  0.986080"
      ]
     },
     "execution_count": 24,
     "metadata": {},
     "output_type": "execute_result"
    }
   ],
   "source": [
    "params=lregModel.params\n",
    "conf=lregModel.conf_int()\n",
    "conf[\"OR\"]=params\n",
    "conf.columns=[\"Lower CI\",\"Upper CI\",\"OR\"]\n",
    "np.exp(conf)"
   ]
  },
  {
   "cell_type": "markdown",
   "metadata": {},
   "source": [
    "#### Let's add the incomeperperson variable and check the performance of the model"
   ]
  },
  {
   "cell_type": "code",
   "execution_count": 25,
   "metadata": {},
   "outputs": [
    {
     "name": "stdout",
     "output_type": "stream",
     "text": [
      "Optimization terminated successfully.\n",
      "         Current function value: 0.650400\n",
      "         Iterations 5\n"
     ]
    },
    {
     "data": {
      "text/html": [
       "<table class=\"simpletable\">\n",
       "<caption>Logit Regression Results</caption>\n",
       "<tr>\n",
       "  <th>Dep. Variable:</th>   <td>suicideCategorical</td> <th>  No. Observations:  </th>  <td>   163</td> \n",
       "</tr>\n",
       "<tr>\n",
       "  <th>Model:</th>                  <td>Logit</td>       <th>  Df Residuals:      </th>  <td>   160</td> \n",
       "</tr>\n",
       "<tr>\n",
       "  <th>Method:</th>                  <td>MLE</td>        <th>  Df Model:          </th>  <td>     2</td> \n",
       "</tr>\n",
       "<tr>\n",
       "  <th>Date:</th>             <td>Tue, 18 May 2021</td>  <th>  Pseudo R-squ.:     </th>  <td>0.05027</td>\n",
       "</tr>\n",
       "<tr>\n",
       "  <th>Time:</th>                 <td>20:08:32</td>      <th>  Log-Likelihood:    </th> <td> -106.02</td>\n",
       "</tr>\n",
       "<tr>\n",
       "  <th>converged:</th>              <td>True</td>        <th>  LL-Null:           </th> <td> -111.63</td>\n",
       "</tr>\n",
       "<tr>\n",
       "  <th>Covariance Type:</th>      <td>nonrobust</td>     <th>  LLR p-value:       </th> <td>0.003656</td>\n",
       "</tr>\n",
       "</table>\n",
       "<table class=\"simpletable\">\n",
       "<tr>\n",
       "         <td></td>            <th>coef</th>     <th>std err</th>      <th>z</th>      <th>P>|z|</th>  <th>[0.025</th>    <th>0.975]</th>  \n",
       "</tr>\n",
       "<tr>\n",
       "  <th>Intercept</th>       <td>    0.9681</td> <td>    0.468</td> <td>    2.068</td> <td> 0.039</td> <td>    0.051</td> <td>    1.886</td>\n",
       "</tr>\n",
       "<tr>\n",
       "  <th>urbanrate</th>       <td>   -0.0292</td> <td>    0.009</td> <td>   -3.094</td> <td> 0.002</td> <td>   -0.048</td> <td>   -0.011</td>\n",
       "</tr>\n",
       "<tr>\n",
       "  <th>incomeperperson</th> <td> 5.307e-05</td> <td> 2.03e-05</td> <td>    2.608</td> <td> 0.009</td> <td> 1.32e-05</td> <td>  9.3e-05</td>\n",
       "</tr>\n",
       "</table>"
      ],
      "text/plain": [
       "<class 'statsmodels.iolib.summary.Summary'>\n",
       "\"\"\"\n",
       "                           Logit Regression Results                           \n",
       "==============================================================================\n",
       "Dep. Variable:     suicideCategorical   No. Observations:                  163\n",
       "Model:                          Logit   Df Residuals:                      160\n",
       "Method:                           MLE   Df Model:                            2\n",
       "Date:                Tue, 18 May 2021   Pseudo R-squ.:                 0.05027\n",
       "Time:                        20:08:32   Log-Likelihood:                -106.02\n",
       "converged:                       True   LL-Null:                       -111.63\n",
       "Covariance Type:            nonrobust   LLR p-value:                  0.003656\n",
       "===================================================================================\n",
       "                      coef    std err          z      P>|z|      [0.025      0.975]\n",
       "-----------------------------------------------------------------------------------\n",
       "Intercept           0.9681      0.468      2.068      0.039       0.051       1.886\n",
       "urbanrate          -0.0292      0.009     -3.094      0.002      -0.048      -0.011\n",
       "incomeperperson  5.307e-05   2.03e-05      2.608      0.009    1.32e-05     9.3e-05\n",
       "===================================================================================\n",
       "\"\"\""
      ]
     },
     "execution_count": 25,
     "metadata": {},
     "output_type": "execute_result"
    }
   ],
   "source": [
    "lregModel=smf.logit(\"suicideCategorical ~ urbanrate+incomeperperson\",data=dataInterest).fit()\n",
    "lregModel.summary()"
   ]
  },
  {
   "cell_type": "code",
   "execution_count": 26,
   "metadata": {},
   "outputs": [
    {
     "data": {
      "text/html": [
       "<div>\n",
       "<style scoped>\n",
       "    .dataframe tbody tr th:only-of-type {\n",
       "        vertical-align: middle;\n",
       "    }\n",
       "\n",
       "    .dataframe tbody tr th {\n",
       "        vertical-align: top;\n",
       "    }\n",
       "\n",
       "    .dataframe thead th {\n",
       "        text-align: right;\n",
       "    }\n",
       "</style>\n",
       "<table border=\"1\" class=\"dataframe\">\n",
       "  <thead>\n",
       "    <tr style=\"text-align: right;\">\n",
       "      <th></th>\n",
       "      <th>Lower CI</th>\n",
       "      <th>Upper CI</th>\n",
       "      <th>OR</th>\n",
       "    </tr>\n",
       "  </thead>\n",
       "  <tbody>\n",
       "    <tr>\n",
       "      <th>Intercept</th>\n",
       "      <td>1.051923</td>\n",
       "      <td>6.590009</td>\n",
       "      <td>2.632903</td>\n",
       "    </tr>\n",
       "    <tr>\n",
       "      <th>urbanrate</th>\n",
       "      <td>0.953440</td>\n",
       "      <td>0.989355</td>\n",
       "      <td>0.971231</td>\n",
       "    </tr>\n",
       "    <tr>\n",
       "      <th>incomeperperson</th>\n",
       "      <td>1.000013</td>\n",
       "      <td>1.000093</td>\n",
       "      <td>1.000053</td>\n",
       "    </tr>\n",
       "  </tbody>\n",
       "</table>\n",
       "</div>"
      ],
      "text/plain": [
       "                 Lower CI  Upper CI        OR\n",
       "Intercept        1.051923  6.590009  2.632903\n",
       "urbanrate        0.953440  0.989355  0.971231\n",
       "incomeperperson  1.000013  1.000093  1.000053"
      ]
     },
     "execution_count": 26,
     "metadata": {},
     "output_type": "execute_result"
    }
   ],
   "source": [
    "params=lregModel.params\n",
    "conf=lregModel.conf_int()\n",
    "conf[\"OR\"]=params\n",
    "conf.columns=[\"Lower CI\",\"Upper CI\",\"OR\"]\n",
    "np.exp(conf)"
   ]
  },
  {
   "cell_type": "markdown",
   "metadata": {},
   "source": [
    "The odds of having higher suicideRate were more slightly less for people living in urban area (OR=0.9712, 95% CI = 0.95-0.98, p=.002). Income rate was also slightly significantly associated with suicideRate, such that high income rate people would likely to have higher suicideRate (OR=1.000053, 95% CI=1.000013-1.000093, p=.009)."
   ]
  },
  {
   "cell_type": "code",
   "execution_count": null,
   "metadata": {},
   "outputs": [],
   "source": []
  }
 ],
 "metadata": {
  "kernelspec": {
   "display_name": "Python 3",
   "language": "python",
   "name": "python3"
  },
  "language_info": {
   "codemirror_mode": {
    "name": "ipython",
    "version": 3
   },
   "file_extension": ".py",
   "mimetype": "text/x-python",
   "name": "python",
   "nbconvert_exporter": "python",
   "pygments_lexer": "ipython3",
   "version": "3.8.6"
  }
 },
 "nbformat": 4,
 "nbformat_minor": 4
}
