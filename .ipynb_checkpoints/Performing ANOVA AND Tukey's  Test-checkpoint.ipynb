{
 "cells": [
  {
   "cell_type": "code",
   "execution_count": 1,
   "metadata": {},
   "outputs": [],
   "source": [
    "# Importing the Library\n",
    "import pandas as pd\n",
    "import numpy as  np\n",
    "import matplotlib.pyplot as plt\n",
    "import warnings\n",
    "import seaborn as sns\n",
    "import statsmodels.formula.api as smf\n",
    "import statsmodels.stats.multicomp as multi\n",
    "warnings.filterwarnings('ignore')"
   ]
  },
  {
   "cell_type": "code",
   "execution_count": 2,
   "metadata": {},
   "outputs": [
    {
     "data": {
      "text/plain": [
       "(213, 4)"
      ]
     },
     "execution_count": 2,
     "metadata": {},
     "output_type": "execute_result"
    }
   ],
   "source": [
    "#reading data and checking how it looks\n",
    "data=pd.read_csv(\"./data/gapmiderData.csv\")\n",
    "#Our Interest of Columns are country, alcconsumption, co2emissions, lifeexpectancy\n",
    "dataInterest=data[[\"country\",\"alcconsumption\",\"co2emissions\",\"lifeexpectancy\"]]\n",
    "dataInterest[\"alcconsumption\"]=pd.to_numeric(dataInterest[\"alcconsumption\"],errors='coerce')\n",
    "dataInterest[\"co2emissions\"]=pd.to_numeric(dataInterest[\"co2emissions\"],'coerce')\n",
    "dataInterest[\"lifeexpectancy\"]=pd.to_numeric(dataInterest[\"lifeexpectancy\"],'coerce')\n",
    "dataInterest.shape"
   ]
  },
  {
   "cell_type": "code",
   "execution_count": 5,
   "metadata": {},
   "outputs": [
    {
     "name": "stdout",
     "output_type": "stream",
     "text": [
      "(172, 4)\n"
     ]
    }
   ],
   "source": [
    "dataInterest=dataInterest.dropna()\n",
    "print(dataInterest.shape)\n",
    "# Next we will remove out the countries that have alcohol consumption less than 1 litres to make the analysis more significant\n",
    "dataInterest=dataInterest[dataInterest[\"alcconsumption\"]>1]"
   ]
  },
  {
   "cell_type": "code",
   "execution_count": 11,
   "metadata": {},
   "outputs": [],
   "source": [
    "#Converting Alcohol column to categorical variable\n",
    "# We consider less than 10 litre consumption as low and above that as high alcohol consumption\n",
    "# after conversion we will check whether low or high alcohol consumption have any affect on life expectancy\n",
    "dataInterest[\"AlcoholConsumption\"]=pd.cut(dataInterest[\"alcconsumption\"],[0,10,24])"
   ]
  },
  {
   "cell_type": "code",
   "execution_count": 13,
   "metadata": {},
   "outputs": [],
   "source": [
    "dataInterest[\"AlcoholConsumption\"]=dataInterest[\"AlcoholConsumption\"].astype(\"category\")"
   ]
  },
  {
   "cell_type": "code",
   "execution_count": 15,
   "metadata": {},
   "outputs": [
    {
     "data": {
      "text/html": [
       "<table class=\"simpletable\">\n",
       "<caption>OLS Regression Results</caption>\n",
       "<tr>\n",
       "  <th>Dep. Variable:</th>     <td>lifeexpectancy</td>  <th>  R-squared:         </th> <td>   0.085</td>\n",
       "</tr>\n",
       "<tr>\n",
       "  <th>Model:</th>                   <td>OLS</td>       <th>  Adj. R-squared:    </th> <td>   0.078</td>\n",
       "</tr>\n",
       "<tr>\n",
       "  <th>Method:</th>             <td>Least Squares</td>  <th>  F-statistic:       </th> <td>   13.25</td>\n",
       "</tr>\n",
       "<tr>\n",
       "  <th>Date:</th>             <td>Sat, 01 May 2021</td> <th>  Prob (F-statistic):</th> <td>0.000380</td>\n",
       "</tr>\n",
       "<tr>\n",
       "  <th>Time:</th>                 <td>17:00:15</td>     <th>  Log-Likelihood:    </th> <td> -531.93</td>\n",
       "</tr>\n",
       "<tr>\n",
       "  <th>No. Observations:</th>      <td>   145</td>      <th>  AIC:               </th> <td>   1068.</td>\n",
       "</tr>\n",
       "<tr>\n",
       "  <th>Df Residuals:</th>          <td>   143</td>      <th>  BIC:               </th> <td>   1074.</td>\n",
       "</tr>\n",
       "<tr>\n",
       "  <th>Df Model:</th>              <td>     1</td>      <th>                     </th>     <td> </td>   \n",
       "</tr>\n",
       "<tr>\n",
       "  <th>Covariance Type:</th>      <td>nonrobust</td>    <th>                     </th>     <td> </td>   \n",
       "</tr>\n",
       "</table>\n",
       "<table class=\"simpletable\">\n",
       "<tr>\n",
       "                              <td></td>                                 <th>coef</th>     <th>std err</th>      <th>t</th>      <th>P>|t|</th>  <th>[0.025</th>    <th>0.975]</th>  \n",
       "</tr>\n",
       "<tr>\n",
       "  <th>Intercept</th>                                                 <td>   67.9978</td> <td>    0.936</td> <td>   72.614</td> <td> 0.000</td> <td>   66.147</td> <td>   69.849</td>\n",
       "</tr>\n",
       "<tr>\n",
       "  <th>C(AlcoholConsumption)[T.Interval(10, 24, closed='right')]</th> <td>    6.4106</td> <td>    1.761</td> <td>    3.640</td> <td> 0.000</td> <td>    2.930</td> <td>    9.892</td>\n",
       "</tr>\n",
       "</table>\n",
       "<table class=\"simpletable\">\n",
       "<tr>\n",
       "  <th>Omnibus:</th>       <td>12.903</td> <th>  Durbin-Watson:     </th> <td>   1.946</td>\n",
       "</tr>\n",
       "<tr>\n",
       "  <th>Prob(Omnibus):</th> <td> 0.002</td> <th>  Jarque-Bera (JB):  </th> <td>  13.801</td>\n",
       "</tr>\n",
       "<tr>\n",
       "  <th>Skew:</th>          <td>-0.721</td> <th>  Prob(JB):          </th> <td> 0.00101</td>\n",
       "</tr>\n",
       "<tr>\n",
       "  <th>Kurtosis:</th>      <td> 2.547</td> <th>  Cond. No.          </th> <td>    2.44</td>\n",
       "</tr>\n",
       "</table><br/><br/>Notes:<br/>[1] Standard Errors assume that the covariance matrix of the errors is correctly specified."
      ],
      "text/plain": [
       "<class 'statsmodels.iolib.summary.Summary'>\n",
       "\"\"\"\n",
       "                            OLS Regression Results                            \n",
       "==============================================================================\n",
       "Dep. Variable:         lifeexpectancy   R-squared:                       0.085\n",
       "Model:                            OLS   Adj. R-squared:                  0.078\n",
       "Method:                 Least Squares   F-statistic:                     13.25\n",
       "Date:                Sat, 01 May 2021   Prob (F-statistic):           0.000380\n",
       "Time:                        17:00:15   Log-Likelihood:                -531.93\n",
       "No. Observations:                 145   AIC:                             1068.\n",
       "Df Residuals:                     143   BIC:                             1074.\n",
       "Df Model:                           1                                         \n",
       "Covariance Type:            nonrobust                                         \n",
       "=============================================================================================================================\n",
       "                                                                coef    std err          t      P>|t|      [0.025      0.975]\n",
       "-----------------------------------------------------------------------------------------------------------------------------\n",
       "Intercept                                                    67.9978      0.936     72.614      0.000      66.147      69.849\n",
       "C(AlcoholConsumption)[T.Interval(10, 24, closed='right')]     6.4106      1.761      3.640      0.000       2.930       9.892\n",
       "==============================================================================\n",
       "Omnibus:                       12.903   Durbin-Watson:                   1.946\n",
       "Prob(Omnibus):                  0.002   Jarque-Bera (JB):               13.801\n",
       "Skew:                          -0.721   Prob(JB):                      0.00101\n",
       "Kurtosis:                       2.547   Cond. No.                         2.44\n",
       "==============================================================================\n",
       "\n",
       "Notes:\n",
       "[1] Standard Errors assume that the covariance matrix of the errors is correctly specified.\n",
       "\"\"\""
      ]
     },
     "execution_count": 15,
     "metadata": {},
     "output_type": "execute_result"
    }
   ],
   "source": [
    "# Run the ANOVA Test\n",
    "model=smf.ols('lifeexpectancy ~ C(AlcoholConsumption)',data=dataInterest)\n",
    "results=model.fit()\n",
    "results.summary()"
   ]
  },
  {
   "cell_type": "code",
   "execution_count": 19,
   "metadata": {},
   "outputs": [
    {
     "data": {
      "text/html": [
       "<table class=\"simpletable\">\n",
       "<caption>Multiple Comparison of Means - Tukey HSD, FWER=0.05</caption>\n",
       "<tr>\n",
       "  <th>group1</th>   <th>group2</th>  <th>meandiff</th> <th>p-adj</th>  <th>lower</th>  <th>upper</th> <th>reject</th>\n",
       "</tr>\n",
       "<tr>\n",
       "  <td>(0, 10]</td> <td>(10, 24]</td>  <td>6.4106</td>  <td>0.001</td> <td>2.9295</td> <td>9.8916</td>  <td>True</td> \n",
       "</tr>\n",
       "</table>"
      ],
      "text/plain": [
       "<class 'statsmodels.iolib.table.SimpleTable'>"
      ]
     },
     "execution_count": 19,
     "metadata": {},
     "output_type": "execute_result"
    }
   ],
   "source": [
    "mci=multi.MultiComparison(dataInterest[\"lifeexpectancy\"],dataInterest[\"AlcoholConsumption\"])\n",
    "rslts=mci.tukeyhsd()\n",
    "rslts.summary()"
   ]
  },
  {
   "cell_type": "code",
   "execution_count": null,
   "metadata": {},
   "outputs": [],
   "source": []
  }
 ],
 "metadata": {
  "kernelspec": {
   "display_name": "Python 3",
   "language": "python",
   "name": "python3"
  },
  "language_info": {
   "codemirror_mode": {
    "name": "ipython",
    "version": 3
   },
   "file_extension": ".py",
   "mimetype": "text/x-python",
   "name": "python",
   "nbconvert_exporter": "python",
   "pygments_lexer": "ipython3",
   "version": "3.8.6"
  }
 },
 "nbformat": 4,
 "nbformat_minor": 4
}
