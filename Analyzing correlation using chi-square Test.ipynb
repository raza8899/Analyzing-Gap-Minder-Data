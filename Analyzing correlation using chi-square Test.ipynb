{
 "cells": [
  {
   "cell_type": "code",
   "execution_count": 1,
   "metadata": {},
   "outputs": [],
   "source": [
    "# Importing the Library\n",
    "import pandas as pd\n",
    "import numpy as  np\n",
    "import matplotlib.pyplot as plt\n",
    "import warnings\n",
    "import seaborn as sns\n",
    "import statsmodels.formula.api as smf\n",
    "import statsmodels.stats.multicomp as multi\n",
    "warnings.filterwarnings('ignore')\n",
    "import scipy"
   ]
  },
  {
   "cell_type": "code",
   "execution_count": 2,
   "metadata": {},
   "outputs": [
    {
     "data": {
      "text/plain": [
       "(213, 4)"
      ]
     },
     "execution_count": 2,
     "metadata": {},
     "output_type": "execute_result"
    }
   ],
   "source": [
    "data=pd.read_csv(\"./data/gapmiderData.csv\")\n",
    "#Our Interest of Columns are country, alcconsumption, co2emissions, lifeexpectancy\n",
    "dataInterest=data[[\"country\",\"alcconsumption\",\"co2emissions\",\"lifeexpectancy\"]]\n",
    "dataInterest[\"alcconsumption\"]=pd.to_numeric(dataInterest[\"alcconsumption\"],errors='coerce')\n",
    "dataInterest[\"co2emissions\"]=pd.to_numeric(dataInterest[\"co2emissions\"],'coerce')\n",
    "dataInterest[\"lifeexpectancy\"]=pd.to_numeric(dataInterest[\"lifeexpectancy\"],'coerce')\n",
    "dataInterest.shape"
   ]
  },
  {
   "cell_type": "code",
   "execution_count": 3,
   "metadata": {},
   "outputs": [
    {
     "name": "stdout",
     "output_type": "stream",
     "text": [
      "(172, 4)\n"
     ]
    }
   ],
   "source": [
    "dataInterest=dataInterest.dropna()\n",
    "print(dataInterest.shape)\n",
    "# Next we will remove out the countries that have alcohol consumption less than 1 litres to make the analysis more significant\n",
    "dataInterest=dataInterest[dataInterest[\"alcconsumption\"]>1]"
   ]
  },
  {
   "cell_type": "code",
   "execution_count": 4,
   "metadata": {},
   "outputs": [
    {
     "name": "stdout",
     "output_type": "stream",
     "text": [
      "Minimum value for Alcohol Consumption variable is  1.03\n",
      "Maximum value for Alcohol Consumption variable is  23.01\n"
     ]
    }
   ],
   "source": [
    "print(\"Minimum value for Alcohol Consumption variable is \",dataInterest[\"alcconsumption\"].min())\n",
    "print(\"Maximum value for Alcohol Consumption variable is \",dataInterest[\"alcconsumption\"].max())"
   ]
  },
  {
   "cell_type": "code",
   "execution_count": 5,
   "metadata": {},
   "outputs": [],
   "source": [
    "#Converting Alcohol column to categorical variable\n",
    "# We convert over Alcohol Quantitative variable to Categorical, we divide the data into following three categories\n",
    "# We consider less than 5 litre consumption as veryLow and 5-15 litres alcohol consumption as medium alcohol consumption and \n",
    "# 15-24 litres alcohol consumption as high\n",
    "# after conversion we will check whether low, medium or high alcohol consumption have any affect on life expectancy\n",
    "dataInterest[\"AlcoholConsumption\"]=pd.cut(dataInterest[\"alcconsumption\"],[0,5,15,24])\n",
    "dataInterest[\"AlcoholConsumption\"]=dataInterest[\"AlcoholConsumption\"].astype(\"category\")"
   ]
  },
  {
   "cell_type": "code",
   "execution_count": 6,
   "metadata": {},
   "outputs": [
    {
     "data": {
      "text/plain": [
       "(5, 15]     84\n",
       "(0, 5]      50\n",
       "(15, 24]    11\n",
       "Name: AlcoholConsumption, dtype: int64"
      ]
     },
     "execution_count": 6,
     "metadata": {},
     "output_type": "execute_result"
    }
   ],
   "source": [
    "dataInterest[\"AlcoholConsumption\"].value_counts()"
   ]
  },
  {
   "cell_type": "code",
   "execution_count": 7,
   "metadata": {},
   "outputs": [
    {
     "name": "stdout",
     "output_type": "stream",
     "text": [
      "Minimum value for Life Expectancy variable is  47.794\n",
      "Maximum value for Life Expectancy variable is  83.394\n"
     ]
    }
   ],
   "source": [
    "print(\"Minimum value for Life Expectancy variable is \",dataInterest[\"lifeexpectancy\"].min())\n",
    "print(\"Maximum value for Life Expectancy variable is \",dataInterest[\"lifeexpectancy\"].max())"
   ]
  },
  {
   "cell_type": "code",
   "execution_count": 21,
   "metadata": {},
   "outputs": [],
   "source": [
    "# So we divide our life expectancy variables as well into two category\n",
    "# from 47 years to 65 years we say the life expectancy as low\n",
    "# and from 65 years to 84 years we say the life expectancy as high\n",
    "dataInterest[\"LifeExpectancy\"]=pd.cut(dataInterest[\"lifeexpectancy\"],[47,65,84])\n",
    "dataInterest[\"LifeExpectancy\"]=dataInterest[\"LifeExpectancy\"].astype(\"category\")"
   ]
  },
  {
   "cell_type": "code",
   "execution_count": 22,
   "metadata": {},
   "outputs": [
    {
     "data": {
      "text/plain": [
       "(65, 84]    105\n",
       "(47, 65]     40\n",
       "Name: LifeExpectancy, dtype: int64"
      ]
     },
     "execution_count": 22,
     "metadata": {},
     "output_type": "execute_result"
    }
   ],
   "source": [
    "dataInterest[\"LifeExpectancy\"].value_counts()"
   ]
  },
  {
   "cell_type": "markdown",
   "metadata": {},
   "source": [
    "#### Performing Chi-square Test"
   ]
  },
  {
   "cell_type": "code",
   "execution_count": 23,
   "metadata": {},
   "outputs": [],
   "source": [
    "ct=pd.crosstab(dataInterest[\"LifeExpectancy\"],dataInterest[\"AlcoholConsumption\"])"
   ]
  },
  {
   "cell_type": "code",
   "execution_count": 24,
   "metadata": {},
   "outputs": [],
   "source": [
    "colsum=ct.sum(axis=0)"
   ]
  },
  {
   "cell_type": "code",
   "execution_count": 25,
   "metadata": {},
   "outputs": [],
   "source": [
    "colpct=ct/colsum"
   ]
  },
  {
   "cell_type": "code",
   "execution_count": 26,
   "metadata": {},
   "outputs": [
    {
     "name": "stdout",
     "output_type": "stream",
     "text": [
      "AlcoholConsumption  (0, 5]   (5, 15]  (15, 24]\n",
      "LifeExpectancy                                \n",
      "(47, 65]              0.42  0.214286  0.090909\n",
      "(65, 84]              0.58  0.785714  0.909091\n"
     ]
    }
   ],
   "source": [
    "print(colpct)"
   ]
  },
  {
   "cell_type": "code",
   "execution_count": 27,
   "metadata": {},
   "outputs": [],
   "source": [
    "results=scipy.stats.chi2_contingency(ct)"
   ]
  },
  {
   "cell_type": "code",
   "execution_count": 29,
   "metadata": {},
   "outputs": [
    {
     "name": "stdout",
     "output_type": "stream",
     "text": [
      "Chi-squre value, p-value,expected counts\n"
     ]
    },
    {
     "data": {
      "text/plain": [
       "(8.678164811379096,\n",
       " 0.013048495937467864,\n",
       " 2,\n",
       " array([[13.79310345, 23.17241379,  3.03448276],\n",
       "        [36.20689655, 60.82758621,  7.96551724]]))"
      ]
     },
     "execution_count": 29,
     "metadata": {},
     "output_type": "execute_result"
    }
   ],
   "source": [
    "print(\"Chi-squre value, p-value,expected counts\")\n",
    "results"
   ]
  },
  {
   "cell_type": "code",
   "execution_count": 30,
   "metadata": {},
   "outputs": [],
   "source": [
    "# So the p-value is greater than 0.05 and hence we cannot reject the hypothesis, \n",
    "# so we can conclude there is no association between alcohol consumption and life expectancy\n",
    "# as we failed to reject the null hypothesis we don't perform the post hoc test"
   ]
  },
  {
   "cell_type": "code",
   "execution_count": null,
   "metadata": {},
   "outputs": [],
   "source": []
  }
 ],
 "metadata": {
  "kernelspec": {
   "display_name": "Python 3",
   "language": "python",
   "name": "python3"
  },
  "language_info": {
   "codemirror_mode": {
    "name": "ipython",
    "version": 3
   },
   "file_extension": ".py",
   "mimetype": "text/x-python",
   "name": "python",
   "nbconvert_exporter": "python",
   "pygments_lexer": "ipython3",
   "version": "3.8.6"
  }
 },
 "nbformat": 4,
 "nbformat_minor": 4
}
